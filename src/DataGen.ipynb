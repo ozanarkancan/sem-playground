{
 "cells": [
  {
   "cell_type": "code",
   "execution_count": 1,
   "metadata": {},
   "outputs": [],
   "source": [
    "import pandas as pd\n",
    "import numpy as np\n",
    "\n",
    "np.random.seed(42)"
   ]
  },
  {
   "cell_type": "code",
   "execution_count": 2,
   "metadata": {},
   "outputs": [],
   "source": [
    "def generate_instance():\n",
    "    # iç veri\n",
    "    ay = np.max([1.0, np.round(np.random.normal(3, 1))]) if np.random.rand() > 0.93 else np.max([1.0, np.round(np.random.normal(28, 7))])\n",
    "    kredi_karti_aldi = 1.0 if np.random.rand() > 0.99 else 0.0\n",
    "    kredi_karti_sahibi = 1.0 if np.random.rand() > 0.7 else 0.0\n",
    "    kredi_karti_ilk_ay_harcama = 0.0 if (kredi_karti_sahibi == 0.0 and kredi_karti_aldi == 0.0) else np.max([0.0, np.random.normal(1000.0, 250.0)])\n",
    "    kredi_karti_harcama = 0.0 if (kredi_karti_sahibi == 0.0 and kredi_karti_aldi == 0.0) else np.max([0.0, np.random.normal(3000, 2000)])\n",
    "    onceki_ay_kredi_karti_harcama = 0.0 if kredi_karti_sahibi == 0.0 else np.max([0.0, np.random.normal(3000, 2000)])\n",
    "    toplam_varlik = 0.0 if np.random.rand() > 0.95 else np.max([0.0, np.random.normal(10000, 8000)])\n",
    "    toplam_varlik_gecen_ay = 0.0 if ay < 2 or np.random.rand() > 0.5 else np.max([0.0, np.random.normal(10000, 8000)])\n",
    "    toplam_varlik_onceki_3_ay_ortalama = 0.0 if ay < 4 else np.max([toplam_varlik_gecen_ay, np.random.normal(toplam_varlik_gecen_ay, 5000)])\n",
    "    acik_kredi = 1.0 if np.random.rand() > 0.8 else 0.0\n",
    "    onceki_ay_urun_sayisi = 0.0 if np.random.rand() > 0.995 else np.max([0.0, np.round(np.random.normal(4.0, 1.5))])\n",
    "    urun_sayisi = 0.0 if np.random.rand() > 0.98 else np.max([0.0, np.round(np.random.normal(4.0, 1.5))])\n",
    "    \n",
    "    # performans ölçütleri\n",
    "    yeni_musteri = 1.0 if ay <= 3.0 else 0.0\n",
    "    capraz_satis = 1.0 if ay > 3.0 and (kredi_karti_sahibi == 1.0 and kredi_karti_ilk_ay_harcama > 100.0) and np.random.rand() > 0.8 else 0.0\n",
    "    yukari_satis = 1.0 if ay > 3.0 and (toplam_varlik_gecen_ay > 10000 and toplam_varlik / toplam_varlik_onceki_3_ay_ortalama > 1.5) else 0.0\n",
    "    \n",
    "    devam_eden_musteri = 0.0\n",
    "    terk = 0.0\n",
    "    geri_kazanilmis_musteri = 0.0\n",
    "    pasif_musteri = 0.0\n",
    "    aktiflestirilmis_musteri = 0.0\n",
    "    \n",
    "    if ay > 3 and kredi_karti_sahibi == 0 and toplam_varlik == 0 and acik_kredi == 0:\n",
    "        pasif_musteri = 1.0\n",
    "    elif ay > 3 and urun_sayisi == 0:\n",
    "        terk = 1.0\n",
    "    elif ay > 3 and onceki_ay_urun_sayisi == 0.0 and urun_sayisi > 0:\n",
    "        geri_kazanilmis_musteri = 1.0\n",
    "    elif ay > 3 and toplam_varlik_gecen_ay == 0.0 and onceki_ay_kredi_karti_harcama == 0.0 and onceki_ay_urun_sayisi > 0 and urun_sayisi > 0 and toplam_varlik != 0 and toplam_varlik_onceki_3_ay_ortalama != 0 and np.random.rand() > 0.9:\n",
    "        aktiflestirilmis_musteri = 1.0\n",
    "    elif ay > 3:\n",
    "        devam_eden_musteri = 1.0\n",
    "        \n",
    "    tavsiye = np.random.normal(6.5, 0.01) # bias\n",
    "    tavsiye += yeni_musteri * np.random.normal(2, 0.1)\n",
    "    tavsiye += capraz_satis * np.random.normal(1, 0.1)\n",
    "    tavsiye += yukari_satis * np.random.normal(3, 0.001)\n",
    "    tavsiye += devam_eden_musteri * np.random.normal(0.5, 0.5)\n",
    "    tavsiye += terk * np.random.normal(-3.0, 0.001)\n",
    "    tavsiye += geri_kazanilmis_musteri * np.random.normal(1.0, 0.5)\n",
    "    tavsiye += aktiflestirilmis_musteri * np.random.normal(0.5, 0.5)\n",
    "    tavsiye += pasif_musteri * np.random.normal(-1.5, 0.1)\n",
    "    tavsiye = np.round(tavsiye)\n",
    "    tavsiye = np.max([0.0, tavsiye])\n",
    "    tavsiye = np.min([10.0, tavsiye])\n",
    "    \n",
    "    instance = [ay, kredi_karti_aldi, kredi_karti_sahibi, kredi_karti_ilk_ay_harcama, kredi_karti_harcama, onceki_ay_kredi_karti_harcama, toplam_varlik, toplam_varlik_gecen_ay, toplam_varlik_onceki_3_ay_ortalama,\n",
    "    acik_kredi, onceki_ay_urun_sayisi, urun_sayisi, yeni_musteri, capraz_satis, yukari_satis, devam_eden_musteri, terk, geri_kazanilmis_musteri, pasif_musteri, aktiflestirilmis_musteri,\n",
    "    tavsiye]\n",
    "    \n",
    "    return np.array(instance)\n",
    "    \n",
    "    \n",
    "    \n",
    "    "
   ]
  },
  {
   "cell_type": "code",
   "execution_count": 3,
   "metadata": {},
   "outputs": [],
   "source": [
    "samples = np.array([generate_instance() for x in range(100000)])\n",
    "columns = [\"ay\", \"kredi_karti_aldi\", \"kredi_karti_sahibi\", \"kredi_karti_ilk_ay_harcama\", \"kredi_karti_harcama\", \"onceki_ay_kredi_karti_harcama\", \"toplam_varlik\", \"toplam_varlik_gecen_ay\", \"toplam_varlik_onceki_3_ay_ortalama\",\n",
    "    \"acik_kredi\", \"onceki_ay_urun_sayisi\", \"urun_sayisi\", \"yeni_musteri\", \"capraz_satis\", \"yukari_satis\", \"devam_eden_musteri\", \"terk\", \"geri_kazanilmis_musteri\", \"pasif_musteri\", \"aktiflestirilmis_musteri\",\n",
    "    \"tavsiye\"]\n",
    "data = pd.DataFrame(samples, columns = columns)"
   ]
  },
  {
   "cell_type": "code",
   "execution_count": 4,
   "metadata": {},
   "outputs": [
    {
     "data": {
      "text/plain": [
       "0.04889"
      ]
     },
     "execution_count": 4,
     "metadata": {},
     "output_type": "execute_result"
    }
   ],
   "source": [
    "data[\"yeni_musteri\"].sum() / data.shape[0]"
   ]
  },
  {
   "cell_type": "code",
   "execution_count": 5,
   "metadata": {},
   "outputs": [
    {
     "data": {
      "text/plain": [
       "0.05664"
      ]
     },
     "execution_count": 5,
     "metadata": {},
     "output_type": "execute_result"
    }
   ],
   "source": [
    "data[\"capraz_satis\"].sum() / data.shape[0]"
   ]
  },
  {
   "cell_type": "code",
   "execution_count": 6,
   "metadata": {},
   "outputs": [
    {
     "data": {
      "text/plain": [
       "0.01281"
      ]
     },
     "execution_count": 6,
     "metadata": {},
     "output_type": "execute_result"
    }
   ],
   "source": [
    "data[\"yukari_satis\"].sum() / data.shape[0]"
   ]
  },
  {
   "cell_type": "code",
   "execution_count": 7,
   "metadata": {},
   "outputs": [
    {
     "data": {
      "text/plain": [
       "0.81819"
      ]
     },
     "execution_count": 7,
     "metadata": {},
     "output_type": "execute_result"
    }
   ],
   "source": [
    "data[\"devam_eden_musteri\"].sum() / data.shape[0]"
   ]
  },
  {
   "cell_type": "code",
   "execution_count": 8,
   "metadata": {},
   "outputs": [
    {
     "data": {
      "text/plain": [
       "0.02537"
      ]
     },
     "execution_count": 8,
     "metadata": {},
     "output_type": "execute_result"
    }
   ],
   "source": [
    "data[\"terk\"].sum() / data.shape[0]"
   ]
  },
  {
   "cell_type": "code",
   "execution_count": 9,
   "metadata": {},
   "outputs": [
    {
     "data": {
      "text/plain": [
       "0.01268"
      ]
     },
     "execution_count": 9,
     "metadata": {},
     "output_type": "execute_result"
    }
   ],
   "source": [
    "data[\"geri_kazanilmis_musteri\"].sum() / data.shape[0]"
   ]
  },
  {
   "cell_type": "code",
   "execution_count": 10,
   "metadata": {},
   "outputs": [
    {
     "data": {
      "text/plain": [
       "0.07973"
      ]
     },
     "execution_count": 10,
     "metadata": {},
     "output_type": "execute_result"
    }
   ],
   "source": [
    "data[\"pasif_musteri\"].sum() / data.shape[0]"
   ]
  },
  {
   "cell_type": "code",
   "execution_count": 11,
   "metadata": {},
   "outputs": [
    {
     "data": {
      "text/plain": [
       "0.01514"
      ]
     },
     "execution_count": 11,
     "metadata": {},
     "output_type": "execute_result"
    }
   ],
   "source": [
    "data[\"aktiflestirilmis_musteri\"].sum() / data.shape[0]"
   ]
  },
  {
   "cell_type": "code",
   "execution_count": 12,
   "metadata": {},
   "outputs": [
    {
     "data": {
      "text/plain": [
       "6.92485"
      ]
     },
     "execution_count": 12,
     "metadata": {},
     "output_type": "execute_result"
    }
   ],
   "source": [
    "data[\"tavsiye\"].mean()"
   ]
  },
  {
   "cell_type": "code",
   "execution_count": 13,
   "metadata": {},
   "outputs": [],
   "source": [
    "data.to_csv(\"../data/generated.csv\", sep=\"\\t\")"
   ]
  }
 ],
 "metadata": {
  "kernelspec": {
   "display_name": "Python 3",
   "language": "python",
   "name": "python3"
  },
  "language_info": {
   "codemirror_mode": {
    "name": "ipython",
    "version": 3
   },
   "file_extension": ".py",
   "mimetype": "text/x-python",
   "name": "python",
   "nbconvert_exporter": "python",
   "pygments_lexer": "ipython3",
   "version": "3.7.1"
  }
 },
 "nbformat": 4,
 "nbformat_minor": 2
}
