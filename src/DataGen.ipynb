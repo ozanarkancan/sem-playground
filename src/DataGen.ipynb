{
 "cells": [
  {
   "cell_type": "code",
   "execution_count": 1,
   "metadata": {},
   "outputs": [],
   "source": [
    "import pandas as pd\n",
    "import numpy as np\n",
    "\n",
    "np.random.seed(42)"
   ]
  },
  {
   "cell_type": "code",
   "execution_count": 2,
   "metadata": {},
   "outputs": [],
   "source": [
    "def generate_instance():\n",
    "    # iç veri\n",
    "    ay = np.max([1.0, np.round(np.random.normal(3, 1))]) if np.random.rand() > 0.93 else np.max([1.0, np.round(np.random.normal(28, 7))])\n",
    "    kredi_karti_aldi = 1.0 if np.random.rand() > 0.99 else 0.0\n",
    "    kredi_karti_sahibi = 1.0 if np.random.rand() > 0.7 else 0.0\n",
    "    kredi_karti_ilk_ay_harcama = 0.0 if (kredi_karti_sahibi == 0.0 and kredi_karti_aldi == 0.0) else np.max([0.0, np.random.normal(1000.0, 250.0)])\n",
    "    kredi_karti_harcama = 0.0 if (kredi_karti_sahibi == 0.0 and kredi_karti_aldi == 0.0) else np.max([0.0, np.random.normal(3000, 2000)])\n",
    "    onceki_ay_kredi_karti_harcama = 0.0 if kredi_karti_sahibi == 0.0 else np.max([0.0, np.random.normal(3000, 2000)])\n",
    "    toplam_varlik = 0.0 if np.random.rand() > 0.95 else np.max([0.0, np.random.normal(20000, 8000)])\n",
    "    toplam_varlik_gecen_ay = 0.0 if ay < 2 or np.random.rand() > 0.5 else np.max([0.0, np.random.normal(20000, 8000)])\n",
    "    toplam_varlik_onceki_3_ay_ortalama = 0.0 if ay < 4 else np.max([toplam_varlik_gecen_ay, np.random.normal(20000, 5000)])\n",
    "    acik_kredi = 1.0 if np.random.rand() > 0.8 else 0.0\n",
    "    onceki_ay_urun_sayisi = 0.0 if np.random.rand() > 0.995 else np.max([0.0, np.round(np.random.normal(4.0, 1.5))])\n",
    "    urun_sayisi = 0.0 if np.random.rand() > 0.98 else np.max([0.0, np.round(np.random.normal(4.0, 1.5))])\n",
    "    \n",
    "    # performans ölçütleri\n",
    "    yeni_musteri = 1.0 if ay <= 3.0 else 0.0\n",
    "    capraz_satis = 1.0 if ay > 3.0 and (kredi_karti_sahibi == 1.0 and kredi_karti_ilk_ay_harcama > 500.0) and np.random.rand() > 0.8 else 0.0\n",
    "    yukari_satis = 1.0 if ay > 3.0 and (toplam_varlik_gecen_ay > 10000 and toplam_varlik / toplam_varlik_onceki_3_ay_ortalama > 1.5) else 0.0\n",
    "    \n",
    "    devam_eden_musteri = 0.0\n",
    "    terk = 0.0\n",
    "    geri_kazanilmis_musteri = 0.0\n",
    "    pasif_musteri = 0.0\n",
    "    aktiflestirilmis_musteri = 0.0\n",
    "    \n",
    "    if ay > 3 and kredi_karti_sahibi == 0 and toplam_varlik == 0 and acik_kredi == 0:\n",
    "        pasif_musteri = 1.0\n",
    "    elif ay > 3 and urun_sayisi == 0:\n",
    "        terk = 1.0\n",
    "    elif ay > 3 and onceki_ay_urun_sayisi == 0.0 and urun_sayisi > 0:\n",
    "        geri_kazanilmis_musteri = 1.0\n",
    "    elif ay > 3 and toplam_varlik_gecen_ay == 0.0 and onceki_ay_kredi_karti_harcama == 0.0 and onceki_ay_urun_sayisi > 0 and urun_sayisi > 0 and toplam_varlik != 0 and toplam_varlik_onceki_3_ay_ortalama != 0 and np.random.rand() > 0.9:\n",
    "        aktiflestirilmis_musteri = 1.0\n",
    "    elif ay > 3:\n",
    "        devam_eden_musteri = 1.0\n",
    "        \n",
    "    tavsiye = np.random.normal(6.5, 0.25) # bias\n",
    "    tavsiye += yeni_musteri * np.random.normal(2, 0.2)\n",
    "    tavsiye += capraz_satis * np.random.normal(1, 0.1)\n",
    "    tavsiye += yukari_satis * np.random.normal(3, 0.001)\n",
    "    tavsiye += devam_eden_musteri * np.random.normal(0.5, 0.25)\n",
    "    tavsiye += terk * np.random.normal(-3.0, 0.002)\n",
    "    tavsiye += geri_kazanilmis_musteri * np.random.normal(1.0, 0.5)\n",
    "    tavsiye += aktiflestirilmis_musteri * np.random.normal(0.5, 0.25)\n",
    "    tavsiye += pasif_musteri * np.random.normal(-1.5, 0.1)\n",
    "    tavsiye += np.random.normal(0.5, 0.25)\n",
    "    tavsiye = np.round(tavsiye)\n",
    "    tavsiye = np.max([0.0, tavsiye])\n",
    "    tavsiye = np.min([10.0, tavsiye])\n",
    "    tavsiye = tavsiye * 0.1\n",
    "    \n",
    "    memnuniyet = np.random.normal(30.0, 0.5)\n",
    "    memnuniyet += ay * np.random.normal(0.5, 0.01)\n",
    "    memnuniyet += (urun_sayisi - 4) * np.random.normal(1.0, 0.01)\n",
    "    memnuniyet += (toplam_varlik - 5000) * np.random.normal(0.001, 0.0001)\n",
    "    memnuniyet += (kredi_karti_sahibi - 1) * np.random.normal(5.0, 0.5)\n",
    "    memnuniyet += np.random.normal(10.0, 0.5)\n",
    "    memnuniyet = np.round(memnuniyet)\n",
    "    memnuniyet = np.max([0.0, memnuniyet])\n",
    "    memnuniyet = np.min([100.0, memnuniyet])\n",
    "    memnuniyet = memnuniyet * 0.01\n",
    "    \n",
    "    if tavsiye > 0.7 and np.random.rand() > 0.9:\n",
    "        capraz_satis = 1.0\n",
    "    if tavsiye > 0.8 and memnuniyet > 0.8 and np.random.rand() > 0.9:\n",
    "        yukaris_satis = 1.0\n",
    "    \n",
    "    \n",
    "    # digital\n",
    "    basarili_giris_sayisi = 0.0\n",
    "    gezdigi_sayfa_sayisi = 0.0\n",
    "    hata_ile_sonlanan_islem_sayisi = 0.0\n",
    "    bir_islem_icin_ortalama_tiklama_sayisi = 0.0\n",
    "    cevrim_ici_sure = 0.0\n",
    "    \n",
    "    # classic\n",
    "    atm_kullanim = 0.0\n",
    "    sube_kullanim = 0.0\n",
    "    sube_sure = 0.0\n",
    "    \n",
    "    if yeni_musteri == 1.0:\n",
    "        basarili_giris_sayisi = np.max([0.0, np.round(np.random.normal(4, 0.5) * 0.1)])\n",
    "        gezdigi_sayfa_sayisi = np.max([0.0, np.round(np.random.normal(1, 0.5))])\n",
    "        hata_ile_sonlanan_islem_sayisi = np.max([0.0, np.round(np.random.normal(0.8, 0.1))])\n",
    "        bir_islem_icin_ortalama_tiklama_sayisi = np.max([0.0, np.round(np.random.normal(6, 0.5) * 0.1)])\n",
    "        cevrim_ici_sure = np.max([0.0, np.random.normal(6, 0.5) * 0.1])\n",
    "        atm_kullanim = np.max([0.0, np.round(np.random.normal(1, 0.1))])\n",
    "        sube_kullanim = np.max([0.0, np.round(np.random.normal(1, 0.2))])\n",
    "        sube_sure = np.max([0.0, np.random.normal(0.5, 0.3)])\n",
    "        \n",
    "    elif devam_eden_musteri == 1.0:\n",
    "        basarili_giris_sayisi = np.max([0.0, np.round(np.random.normal(8, 0.25) * 0.1)])\n",
    "        gezdigi_sayfa_sayisi = np.max([0.0, np.round(np.random.normal(3, 0.5))])\n",
    "        hata_ile_sonlanan_islem_sayisi = np.max([0.0, np.round(np.random.normal(1.1, 0.2))])\n",
    "        bir_islem_icin_ortalama_tiklama_sayisi = np.max([0.0, np.round(np.random.normal(4, 0.5) * 0.1)])\n",
    "        cevrim_ici_sure = np.max([0.0, np.random.normal(10, 0.5) * 0.1])\n",
    "        atm_kullanim = np.max([0.0, np.round(np.random.normal(3, 0.1))])\n",
    "        sube_kullanim = np.max([0.0, np.round(np.random.normal(2, 0.2))])\n",
    "        sube_sure = np.max([0.0, np.random.normal(1.0, 0.3)])\n",
    "    elif terk == 1.0:\n",
    "        basarili_giris_sayisi = np.max([0.0, np.round(np.random.normal(0.5, 0.2) * 0.1)])\n",
    "        gezdigi_sayfa_sayisi = np.max([0.0, np.round(np.random.normal(3.0, 0.3))])\n",
    "        hata_ile_sonlanan_islem_sayisi = np.max([0.0, np.round(np.random.normal(1.0, 0.5))])\n",
    "        bir_islem_icin_ortalama_tiklama_sayisi = np.max([0.0, np.round(np.random.normal(9, 0.8) * 0.1)])\n",
    "        cevrim_ici_sure = np.max([0.0, np.random.normal(4, 0.5) * 0.1])\n",
    "        atm_kullanim = np.max([0.0, np.round(np.random.normal(2, 0.1))])\n",
    "        sube_kullanim = np.max([0.0, np.round(np.random.normal(1, 0.5))])\n",
    "        sube_sure = np.max([0.0, np.random.normal(3.0, 0.5)])\n",
    "    elif geri_kazanilmis_musteri == 1.0:\n",
    "        basarili_giris_sayisi = np.max([0.0, np.round(np.random.normal(3, 0.1) * 0.1)])\n",
    "        gezdigi_sayfa_sayisi = np.max([0.0, np.round(np.random.normal(1.5, 0.3))])\n",
    "        hata_ile_sonlanan_islem_sayisi = np.max([0.0, np.round(np.random.normal(0.2, 0.1))])\n",
    "        bir_islem_icin_ortalama_tiklama_sayisi = np.max([0.0, np.round(np.random.normal(6, 0.5) * 0.1)])\n",
    "        cevrim_ici_sure = np.max([0.0, np.random.normal(4, 0.2) * 0.1])\n",
    "        atm_kullanim = np.max([0.0, np.round(np.random.normal(1, 0.1))])\n",
    "        sube_kullanim = np.max([0.0, np.round(np.random.normal(1.5, 0.1))])\n",
    "        sube_sure = np.max([0.0, np.random.normal(0.25, 0.3)])\n",
    "    elif aktiflestirilmis_musteri == 1.0:\n",
    "        basarili_giris_sayisi = np.max([0.0, np.round(np.random.normal(4, 0.2) * 0.1)])\n",
    "        gezdigi_sayfa_sayisi = np.max([0.0, np.round(np.random.normal(1, 0.5))])\n",
    "        hata_ile_sonlanan_islem_sayisi = np.max([0.0, np.round(np.random.normal(0.1, 0.1))])\n",
    "        bir_islem_icin_ortalama_tiklama_sayisi = np.max([0.0, np.round(np.random.normal(5, 0.5) * 0.1)])\n",
    "        cevrim_ici_sure = np.max([0.0, np.random.normal(5, 0.5) * 0.1])\n",
    "        atm_kullanim = np.max([0.0, np.round(np.random.normal(2, 0.1))])\n",
    "        sube_kullanim = np.max([0.0, np.round(np.random.normal(0.5, 0.1))])\n",
    "        sube_sure = np.max([0.0, np.random.normal(0.25, 0.2)])\n",
    "    \n",
    "    instance = [ay, kredi_karti_aldi, kredi_karti_sahibi, kredi_karti_ilk_ay_harcama, kredi_karti_harcama, onceki_ay_kredi_karti_harcama, toplam_varlik, toplam_varlik_gecen_ay, toplam_varlik_onceki_3_ay_ortalama,\n",
    "    acik_kredi, onceki_ay_urun_sayisi, urun_sayisi, yeni_musteri, capraz_satis, yukari_satis, devam_eden_musteri, terk, geri_kazanilmis_musteri, pasif_musteri, aktiflestirilmis_musteri,\n",
    "    tavsiye, basarili_giris_sayisi, gezdigi_sayfa_sayisi, hata_ile_sonlanan_islem_sayisi, bir_islem_icin_ortalama_tiklama_sayisi, cevrim_ici_sure, atm_kullanim, sube_kullanim, sube_sure, memnuniyet]\n",
    "    \n",
    "    return np.array(instance)\n",
    "    \n",
    "    \n",
    "    \n",
    "    "
   ]
  },
  {
   "cell_type": "code",
   "execution_count": 3,
   "metadata": {},
   "outputs": [],
   "source": [
    "samples = np.array([generate_instance() for x in range(100000)])\n",
    "columns = [\"ay\", \"kredi_karti_aldi\", \"kredi_karti_sahibi\", \"kredi_karti_ilk_ay_harcama\", \"kredi_karti_harcama\", \"onceki_ay_kredi_karti_harcama\", \"toplam_varlik\", \"toplam_varlik_gecen_ay\", \"toplam_varlik_onceki_3_ay_ortalama\",\n",
    "    \"acik_kredi\", \"onceki_ay_urun_sayisi\", \"urun_sayisi\", \"yeni_musteri\", \"capraz_satis\", \"yukari_satis\", \"devam_eden_musteri\", \"terk\", \"geri_kazanilmis_musteri\", \"pasif_musteri\", \"aktiflestirilmis_musteri\",\n",
    "    \"tavsiye\", \"basarili_giris_sayisi\", \"gezdigi_sayfa_sayisi\", \"hata_ile_sonlanan_islem_sayisi\", \"bir_islem_icin_ortalama_tiklama_sayisi\", \"cevrim_ici_sure\", \"atm_kullanim\", \"sube_kullanim\", \"sube_sure\", \"memnuniyet\"]\n",
    "data = pd.DataFrame(samples, columns = columns)"
   ]
  },
  {
   "cell_type": "code",
   "execution_count": 4,
   "metadata": {},
   "outputs": [
    {
     "data": {
      "text/plain": [
       "0.04844"
      ]
     },
     "execution_count": 4,
     "metadata": {},
     "output_type": "execute_result"
    }
   ],
   "source": [
    "data[\"yeni_musteri\"].sum() / data.shape[0]"
   ]
  },
  {
   "cell_type": "code",
   "execution_count": 5,
   "metadata": {},
   "outputs": [
    {
     "data": {
      "text/plain": [
       "0.14318"
      ]
     },
     "execution_count": 5,
     "metadata": {},
     "output_type": "execute_result"
    }
   ],
   "source": [
    "data[\"capraz_satis\"].sum() / data.shape[0]"
   ]
  },
  {
   "cell_type": "code",
   "execution_count": 6,
   "metadata": {},
   "outputs": [
    {
     "data": {
      "text/plain": [
       "0.02746"
      ]
     },
     "execution_count": 6,
     "metadata": {},
     "output_type": "execute_result"
    }
   ],
   "source": [
    "data[\"yukari_satis\"].sum() / data.shape[0]"
   ]
  },
  {
   "cell_type": "code",
   "execution_count": 7,
   "metadata": {},
   "outputs": [
    {
     "data": {
      "text/plain": [
       "0.85007"
      ]
     },
     "execution_count": 7,
     "metadata": {},
     "output_type": "execute_result"
    }
   ],
   "source": [
    "data[\"devam_eden_musteri\"].sum() / data.shape[0]"
   ]
  },
  {
   "cell_type": "code",
   "execution_count": 8,
   "metadata": {},
   "outputs": [
    {
     "data": {
      "text/plain": [
       "0.02808"
      ]
     },
     "execution_count": 8,
     "metadata": {},
     "output_type": "execute_result"
    }
   ],
   "source": [
    "data[\"terk\"].sum() / data.shape[0]"
   ]
  },
  {
   "cell_type": "code",
   "execution_count": 9,
   "metadata": {},
   "outputs": [
    {
     "data": {
      "text/plain": [
       "0.01336"
      ]
     },
     "execution_count": 9,
     "metadata": {},
     "output_type": "execute_result"
    }
   ],
   "source": [
    "data[\"geri_kazanilmis_musteri\"].sum() / data.shape[0]"
   ]
  },
  {
   "cell_type": "code",
   "execution_count": 10,
   "metadata": {},
   "outputs": [
    {
     "data": {
      "text/plain": [
       "0.0291"
      ]
     },
     "execution_count": 10,
     "metadata": {},
     "output_type": "execute_result"
    }
   ],
   "source": [
    "data[\"pasif_musteri\"].sum() / data.shape[0]"
   ]
  },
  {
   "cell_type": "code",
   "execution_count": 11,
   "metadata": {},
   "outputs": [
    {
     "data": {
      "text/plain": [
       "0.03095"
      ]
     },
     "execution_count": 11,
     "metadata": {},
     "output_type": "execute_result"
    }
   ],
   "source": [
    "data[\"aktiflestirilmis_musteri\"].sum() / data.shape[0]"
   ]
  },
  {
   "cell_type": "code",
   "execution_count": 12,
   "metadata": {},
   "outputs": [
    {
     "data": {
      "text/plain": [
       "0.7542150000000561"
      ]
     },
     "execution_count": 12,
     "metadata": {},
     "output_type": "execute_result"
    }
   ],
   "source": [
    "data[\"tavsiye\"].mean()"
   ]
  },
  {
   "cell_type": "code",
   "execution_count": 13,
   "metadata": {},
   "outputs": [
    {
     "data": {
      "text/plain": [
       "0.6354270000000133"
      ]
     },
     "execution_count": 13,
     "metadata": {},
     "output_type": "execute_result"
    }
   ],
   "source": [
    "data[\"memnuniyet\"].mean()"
   ]
  },
  {
   "cell_type": "code",
   "execution_count": 14,
   "metadata": {},
   "outputs": [
    {
     "data": {
      "text/plain": [
       "1.81154"
      ]
     },
     "execution_count": 14,
     "metadata": {},
     "output_type": "execute_result"
    }
   ],
   "source": [
    "data[\"sube_kullanim\"].mean()"
   ]
  },
  {
   "cell_type": "code",
   "execution_count": 15,
   "metadata": {},
   "outputs": [
    {
     "data": {
      "text/plain": [
       "ay                                        8.655082e+01\n",
       "kredi_karti_aldi                          9.753075e-03\n",
       "kredi_karti_sahibi                        2.086387e-01\n",
       "kredi_karti_ilk_ay_harcama                2.301333e+05\n",
       "kredi_karti_harcama                       3.025880e+06\n",
       "onceki_ay_kredi_karti_harcama             3.032908e+06\n",
       "toplam_varlik                             7.879434e+07\n",
       "toplam_varlik_gecen_ay                    1.317985e+08\n",
       "toplam_varlik_onceki_3_ay_ortalama        5.177402e+07\n",
       "acik_kredi                                1.601695e-01\n",
       "onceki_ay_urun_sayisi                     2.372079e+00\n",
       "urun_sayisi                               2.597472e+00\n",
       "yeni_musteri                              4.609403e-02\n",
       "capraz_satis                              1.226807e-01\n",
       "yukari_satis                              2.670622e-02\n",
       "devam_eden_musteri                        1.274523e-01\n",
       "terk                                      2.729179e-02\n",
       "geri_kazanilmis_musteri                   1.318164e-02\n",
       "pasif_musteri                             2.825347e-02\n",
       "aktiflestirilmis_musteri                  2.999240e-02\n",
       "tavsiye                                   1.046954e-02\n",
       "basarili_giris_sayisi                     1.267020e-01\n",
       "gezdigi_sayfa_sayisi                      8.487993e-01\n",
       "hata_ile_sonlanan_islem_sayisi            9.917852e-02\n",
       "bir_islem_icin_ortalama_tiklama_sayisi    1.077288e-01\n",
       "cevrim_ici_sure                           5.394350e-02\n",
       "atm_kullanim                              4.952727e-01\n",
       "sube_kullanim                             2.629855e-01\n",
       "sube_sure                                 2.628421e-01\n",
       "memnuniyet                                1.116717e-02\n",
       "dtype: float64"
      ]
     },
     "execution_count": 15,
     "metadata": {},
     "output_type": "execute_result"
    }
   ],
   "source": [
    "data.var()"
   ]
  },
  {
   "cell_type": "code",
   "execution_count": 16,
   "metadata": {},
   "outputs": [],
   "source": [
    "#data=(data-data.min())/(data.max()-data.min())"
   ]
  },
  {
   "cell_type": "code",
   "execution_count": 17,
   "metadata": {},
   "outputs": [],
   "source": [
    "data.to_csv(\"../data/generated.csv\", sep=\"\\t\", index=False)"
   ]
  },
  {
   "cell_type": "code",
   "execution_count": 18,
   "metadata": {},
   "outputs": [],
   "source": [
    "with_pasif = [\"tavsiye\", \"yeni_musteri\", \"capraz_satis\", \"yukari_satis\", \"devam_eden_musteri\", \"terk\", \"geri_kazanilmis_musteri\", \"pasif_musteri\", \"aktiflestirilmis_musteri\"]\n",
    "data[with_pasif].to_csv(\"../data/gen.csv\", sep=\"\\t\", index=False)"
   ]
  },
  {
   "cell_type": "code",
   "execution_count": 19,
   "metadata": {},
   "outputs": [],
   "source": [
    "without_pasif = [\"tavsiye\", \"yeni_musteri\", \"capraz_satis\", \"yukari_satis\", \"devam_eden_musteri\", \"terk\", \"geri_kazanilmis_musteri\", \"aktiflestirilmis_musteri\"]\n",
    "data[without_pasif].to_csv(\"../data/gen2.csv\", sep=\"\\t\", index=False)"
   ]
  },
  {
   "cell_type": "code",
   "execution_count": 20,
   "metadata": {},
   "outputs": [],
   "source": [
    "with_digital = [\"tavsiye\", \"yeni_musteri\", \"capraz_satis\", \"yukari_satis\", \"devam_eden_musteri\", \"terk\", \"geri_kazanilmis_musteri\", \"aktiflestirilmis_musteri\", \"basarili_giris_sayisi\", \"gezdigi_sayfa_sayisi\", \"hata_ile_sonlanan_islem_sayisi\", \"bir_islem_icin_ortalama_tiklama_sayisi\", \"cevrim_ici_sure\", \"atm_kullanim\", \"sube_kullanim\", \"sube_sure\"]\n",
    "data[with_digital].to_csv(\"../data/gen_digital.csv\", sep=\"\\t\", index=False)"
   ]
  }
 ],
 "metadata": {
  "kernelspec": {
   "display_name": "Python 3",
   "language": "python",
   "name": "python3"
  },
  "language_info": {
   "codemirror_mode": {
    "name": "ipython",
    "version": 3
   },
   "file_extension": ".py",
   "mimetype": "text/x-python",
   "name": "python",
   "nbconvert_exporter": "python",
   "pygments_lexer": "ipython3",
   "version": "3.7.1"
  }
 },
 "nbformat": 4,
 "nbformat_minor": 2
}
